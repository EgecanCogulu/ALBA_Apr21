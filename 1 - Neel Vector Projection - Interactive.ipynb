{
 "cells": [
  {
   "cell_type": "code",
   "execution_count": 1,
   "id": "ccd4d6ff",
   "metadata": {
    "scrolled": true
   },
   "outputs": [
    {
     "data": {
      "text/html": [
       "<script>\n",
       "code_show=true; \n",
       "function code_toggle() {\n",
       " if (code_show){\n",
       " $('div.input').hide();\n",
       " } else {\n",
       " $('div.input').show();\n",
       " }\n",
       " code_show = !code_show\n",
       "} \n",
       "$( document ).ready(code_toggle);\n",
       "</script>\n",
       "<form action=\"javascript:code_toggle()\"><input type=\"submit\" value=\"Click here to toggle on/off the raw code.\"></form>"
      ],
      "text/plain": [
       "<IPython.core.display.HTML object>"
      ]
     },
     "execution_count": 1,
     "metadata": {},
     "output_type": "execute_result"
    }
   ],
   "source": [
    "from IPython.display import HTML\n",
    "HTML('''<script>\n",
    "code_show=true; \n",
    "function code_toggle() {\n",
    " if (code_show){\n",
    " $('div.input').hide();\n",
    " } else {\n",
    " $('div.input').show();\n",
    " }\n",
    " code_show = !code_show\n",
    "} \n",
    "$( document ).ready(code_toggle);\n",
    "</script>\n",
    "<form action=\"javascript:code_toggle()\"><input type=\"submit\" value=\"Click here to toggle on/off the raw code.\"></form>''')"
   ]
  },
  {
   "cell_type": "code",
   "execution_count": 2,
   "id": "3217923c",
   "metadata": {},
   "outputs": [],
   "source": [
    "import pandas as pd\n",
    "import numpy as np\n",
    "import chart_studio.plotly as py\n",
    "import cufflinks as cf\n",
    "import seaborn as sns\n",
    "import plotly.express as px\n",
    "from ipywidgets import interact\n",
    "from ipywidgets import interactive\n",
    "from ipywidgets import widgets\n",
    "import plotly.graph_objs as go"
   ]
  },
  {
   "cell_type": "code",
   "execution_count": 3,
   "id": "c3c3d95c",
   "metadata": {},
   "outputs": [],
   "source": [
    "pol100= [0,1,0]\n",
    "pol123 =[0.11825568, 0.92387953, 0.36395357]\n",
    "pol145 = [0.21850801, 0.70710678, 0.67249851]\n",
    "pol167 = [0.28549448, 0.38268343, 0.87866165]\n",
    "pol190= [0.3090169943749474, 0.0, 0.9510565162951535]\n",
    "colorlist=['#1f77b4', '#ff7f0e', '#2ca02c', '#d62728', '#9467bd', '#8c564b', '#e377c2', '#7f7f7f', '#bcbd22', '#17becf']"
   ]
  },
  {
   "cell_type": "code",
   "execution_count": null,
   "id": "b2893644",
   "metadata": {},
   "outputs": [],
   "source": []
  },
  {
   "cell_type": "code",
   "execution_count": 4,
   "id": "984d5d73",
   "metadata": {},
   "outputs": [
    {
     "data": {
      "application/vnd.jupyter.widget-view+json": {
       "model_id": "055de987f26c4ea59b7d8960706b45ec",
       "version_major": 2,
       "version_minor": 0
      },
      "text/plain": [
       "interactive(children=(IntSlider(value=90, description='$\\\\theta$', max=180), IntSlider(value=180, description=…"
      ]
     },
     "metadata": {},
     "output_type": "display_data"
    },
    {
     "data": {
      "application/vnd.jupyter.widget-view+json": {
       "model_id": "fd2b2aaa85bf454793cec70af0db769f",
       "version_major": 2,
       "version_minor": 0
      },
      "text/plain": [
       "FigureWidget({\n",
       "    'data': [{'line': {'color': 'black', 'width': 4},\n",
       "              'marker': {'color': 'black'…"
      ]
     },
     "metadata": {},
     "output_type": "display_data"
    }
   ],
   "source": [
    "\n",
    "fig1 = go.FigureWidget()\n",
    "\n",
    "#NEEL VECTOR\n",
    "x = np.array([-1,1])\n",
    "y = np.array([0,0])\n",
    "z = np.array([0,0])\n",
    "fig1.add_scatter3d(x=x, y=y, z=z,\n",
    "    marker=dict(size=0.1,color='black'),\n",
    "    line=dict(color='black', width=4 ),\n",
    "    name=\"Néel Vector\")\n",
    "fig1.add_cone(x=[x[1]], y=[y[1]], z=z[[1]], u=[x[1]+x[1]], v=[y[1]+y[1]], w=[z[1]+z[1]],showscale=False,sizemode=\"absolute\",\n",
    "    sizeref=0.1,colorscale=[[0, '#000000'], [1,'#000000']])\n",
    "fig1.add_cone(x=[-1*x[1]], y=[-1*y[1]], z=[-1*z[1]], u=[-1*(x[1]+x[1])], v=[-1*(y[1]+y[1])], w=[-1*(z[1]+z[1])],showscale=False,sizemode=\"absolute\",\n",
    "    sizeref=0.1,colorscale=[[0, '#000000'], [1,'#000000']])\n",
    "#POL100\n",
    "x = np.array([0,pol100[0]])\n",
    "y = np.array([0,pol100[1]])\n",
    "z = np.array([0,pol100[2]])\n",
    "fig1.add_scatter3d(x=x, y=y, z=z,\n",
    "    marker=dict(size=0.1,color='darkblue'),\n",
    "    line=dict(color=colorlist[0], width=3 ),\n",
    "    name=\"Pol. 100\")\n",
    "fig1.add_cone(x=[x[1]], y=[y[1]], z=z[[1]], u=[x[1]+x[1]], v=[y[1]+y[1]], w=[0],showscale=False,sizemode=\"absolute\",\n",
    "    sizeref=0.1,colorscale=[[0, colorlist[0]], [1,colorlist[0]]])\n",
    "#POL123\n",
    "x = np.array([0,pol123[0]])\n",
    "y = np.array([0,pol123[1]])\n",
    "z = np.array([0,pol123[2]])\n",
    "fig1.add_scatter3d(x=x, y=y, z=z,\n",
    "    marker=dict(size=0.1,color='darkblue'),\n",
    "    line=dict(color=colorlist[2], width=2 ),\n",
    "    name=\"Pol. 123\")\n",
    "fig1.add_cone(x=[x[1]], y=[y[1]], z=z[[1]], u=[x[1]+x[1]], v=[y[1]+y[1]], w=[z[1]+z[1]],showscale=False,sizemode=\"absolute\",\n",
    "    sizeref=0.1,colorscale=[[0, colorlist[2]], [1,colorlist[2]]])\n",
    "#POL145\n",
    "x = np.array([0,pol145[0]])\n",
    "y = np.array([0,pol145[1]])\n",
    "z = np.array([0,pol145[2]])\n",
    "fig1.add_scatter3d(x=x, y=y, z=z,\n",
    "    marker=dict(size=0.1,color='darkblue'),\n",
    "    line=dict(color=colorlist[3], width=2),\n",
    "    name=\"Pol. 145\")\n",
    "fig1.add_cone(x=[x[1]], y=[y[1]], z=z[[1]], u=[x[1]+x[1]], v=[y[1]+y[1]], w=[z[1]+z[1]],showscale=False,sizemode=\"absolute\",\n",
    "    sizeref=0.1,colorscale=[[0, colorlist[3]], [1,colorlist[3]]])\n",
    "#POL167\n",
    "x = np.array([0,pol167[0]])\n",
    "y = np.array([0,pol167[1]])\n",
    "z = np.array([0,pol167[2]])\n",
    "fig1.add_scatter3d(x=x, y=y, z=z,\n",
    "    marker=dict(size=0.1,color='darkblue'),\n",
    "    line=dict(color=colorlist[4], width=2 ),\n",
    "    name=\"Pol. 167\")\n",
    "fig1.add_cone(x=[x[1]], y=[y[1]], z=z[[1]], u=[x[1]+x[1]], v=[y[1]+y[1]], w=[z[1]+z[1]],showscale=False,sizemode=\"absolute\",\n",
    "    sizeref=0.1,colorscale=[[0, colorlist[4]], [1,colorlist[4]]])\n",
    "#POL190\n",
    "x = np.array([0,pol190[0]])\n",
    "y = np.array([0,pol190[1]])\n",
    "z = np.array([0,pol190[2]])\n",
    "fig1.add_scatter3d(x=x, y=y, z=z,\n",
    "    marker=dict(size=0.1,color='darkblue'),\n",
    "    line=dict(color=colorlist[1], width=2 ),\n",
    "    name=\"Pol. 190\")\n",
    "fig1.add_cone(x=[x[1]], y=[y[1]], z=z[[1]], u=[x[1]+x[1]], v=[y[1]+y[1]], w=[z[1]+z[1]],showscale=False,sizemode=\"absolute\",\n",
    "    sizeref=0.1,colorscale=[[0, colorlist[1]], [1,colorlist[1]]])\n",
    "#CIRCLE IN XY PLANE\n",
    "C1=1.076\n",
    "phi=np.linspace(0,2*np.pi,100)\n",
    "x=C1*np.cos(phi)\n",
    "y=C1*np.sin(phi)\n",
    "z=C1*np.zeros(len(x))\n",
    "fig1.add_scatter3d(x=x, y=y, z=z,opacity=0.3,\n",
    "    marker=dict(size=0.1,color='grey'),\n",
    "    line=dict(color='grey', width=2 ),\n",
    "    showlegend=False)\n",
    "#CIRCLE IN XZ PLANE\n",
    "phi=np.linspace(0,2*np.pi,100)\n",
    "x=C1*np.cos(phi)\n",
    "y=C1*np.zeros(len(x))\n",
    "z=C1*np.sin(phi)\n",
    "fig1.add_scatter3d(x=x, y=y, z=z,opacity=0.3,\n",
    "    marker=dict(size=0.1,color='grey'),\n",
    "    line=dict(color='grey', width=2 ),\n",
    "    showlegend=False)\n",
    "x=np.arange(-0.6,0.6,0.1)\n",
    "y=np.arange(-0.6,0.6,0.1)\n",
    "\n",
    "X,Y=np.meshgrid(x,y)\n",
    "Z=np.zeros((np.shape(X)))\n",
    "fig1.add_surface(x=X,y=Y,z=Z,colorscale=\"greys\",showscale=False)\n",
    "\n",
    "fig1.update_layout(\n",
    "    height=700,\n",
    "    width=900,\n",
    "\n",
    "    autosize=True,\n",
    "    scene=dict(camera=dict(up=dict(x=0,y=0, z=1 ), eye=dict(x=-1,y=1,z=1,)),\n",
    "               xaxis = dict(nticks=6, range=[-1.5,1.5]),\n",
    "               yaxis = dict(nticks=6, range=[-1.5,1.5]),\n",
    "               zaxis = dict(nticks=6, range=[-1.5,1.5]),\n",
    "        aspectratio = dict( x=1, y=1, z=1),\n",
    "        aspectmode = 'manual'),\n",
    "    title=\"Polarizations & Néel Vector Orientation\")\n",
    "\n",
    "\n",
    "\n",
    "def update(theta=90, phi=180):\n",
    "    theta=theta*(np.pi/180)\n",
    "    phi=phi*(np.pi/180)\n",
    "    with fig1.batch_update():\n",
    "        x=np.sin(theta)*np.cos(phi)*np.array([-1,1])\n",
    "        y=np.sin(theta)*np.sin(phi)*np.array([-1,1])\n",
    "        z=np.cos(theta)*np.array([-1,1])\n",
    "        \n",
    "        fig1.data[0].x=x\n",
    "        fig1.data[0].y=y\n",
    "        fig1.data[0].z=z\n",
    "        \n",
    "        fig1.data[1].x=[x[1]]\n",
    "        fig1.data[1].y=[y[1]]\n",
    "        fig1.data[1].z=[z[1]]\n",
    "        fig1.data[1].u=[2*x[1]]\n",
    "        fig1.data[1].v=[2*y[1]]\n",
    "        fig1.data[1].w=[2*z[1]]\n",
    "        \n",
    "        fig1.data[2].x=[-1*x[1]]\n",
    "        fig1.data[2].y=[-1*y[1]]\n",
    "        fig1.data[2].z=[-1*z[1]]\n",
    "        fig1.data[2].u=[-2*x[1]]\n",
    "        fig1.data[2].v=[-2*y[1]]\n",
    "        fig1.data[2].w=[-2*z[1]]\n",
    "\n",
    "#fig2 = go.FigureWidget()\n",
    "#fig2.add_scatter(x=np.arange(1,10,1),y=np.arange(1,10,1)**2)\n",
    "\n",
    "#fig2.update_layout()\n",
    "\n",
    "#fig3 = go.FigureWidget()\n",
    "#fig3.add_scatter(x=np.arange(1,10,1),y=np.arange(1,10,1)**2)\n",
    "#fig_subplots=  VBox([HBox([fig1]), HBox([fig2,fig3])])\n",
    "#fig3.update_layout()\n",
    "\n",
    "w=interactive(update,theta=(0,180,1), phi=(0, 360, 1)) \n",
    "w.children[0].description=\"$\\\\theta$\"\n",
    "w.children[1].description=\"$\\phi$\"\n",
    "display(w)\n",
    "fig1"
   ]
  },
  {
   "cell_type": "code",
   "execution_count": 5,
   "id": "967c086b",
   "metadata": {
    "slideshow": {
     "slide_type": "slide"
    }
   },
   "outputs": [],
   "source": [
    "import plotly.graph_objs as go\n",
    "import ipywidgets as widgets\n",
    "import numpy as np\n",
    "from ipywidgets import interact\n",
    "from ipywidgets import interactive\n",
    "\n",
    "pol100= [0,1,0]\n",
    "pol123 =[0.11825568, 0.92387953, 0.36395357]\n",
    "pol145 = [0.21850801, 0.70710678, 0.67249851]\n",
    "pol167 = [0.28549448, 0.38268343, 0.87866165]\n",
    "pol190= [0.3090169943749474, 0.0, 0.9510565162951535]\n",
    "\n",
    "polarizations=[pol100,pol123,pol145,pol167,pol190]\n",
    "\n",
    "def n_vector(theta1,phi1):\n",
    "    theta1=(np.pi/180)*theta1\n",
    "    phi1=(np.pi/180)*phi1\n",
    "    \n",
    "    return [np.sin(theta1)*np.cos(phi1),np.sin(theta1)*np.sin(phi1),np.cos(theta1)+0*phi1]\n",
    "\n",
    "A=0\n",
    "B=1\n",
    "colorlist=['#1f77b4', '#ff7f0e', '#2ca02c', '#d62728', '#9467bd', '#8c564b', '#e377c2', '#7f7f7f', '#bcbd22', '#17becf']"
   ]
  },
  {
   "cell_type": "code",
   "execution_count": 6,
   "id": "1ff349bf",
   "metadata": {},
   "outputs": [
    {
     "data": {
      "application/vnd.jupyter.widget-view+json": {
       "model_id": "2e47e99b72bf4815bcbcc3f76ba78ce5",
       "version_major": 2,
       "version_minor": 0
      },
      "text/plain": [
       "interactive(children=(IntSlider(value=90, description='$\\\\theta$', max=180), IntSlider(value=180, description=…"
      ]
     },
     "metadata": {},
     "output_type": "display_data"
    },
    {
     "data": {
      "application/vnd.jupyter.widget-view+json": {
       "model_id": "bba450c6b0a4431bba196b51af3ad654",
       "version_major": 2,
       "version_minor": 0
      },
      "text/plain": [
       "FigureWidget({\n",
       "    'data': [{'line': {'color': '#1f77b4'},\n",
       "              'name': 'Pol. 100',\n",
       "              'ty…"
      ]
     },
     "metadata": {},
     "output_type": "display_data"
    }
   ],
   "source": [
    "fig = go.FigureWidget()\n",
    "scatt100 = fig.add_scatter(line=dict(color=colorlist[0]))\n",
    "scatt190 = fig.add_scatter(line=dict(color=colorlist[1]))\n",
    "\n",
    "fig.update_layout(yaxis_range=[0,100],xaxis_range=[0,360],yaxis_title=\"$XMLD (\\%)$\",xaxis_title=\"$Angle\\ \\phi\\ (^{\\circ})$\")\n",
    "\n",
    "fig.update_layout(\n",
    "    xaxis = dict(\n",
    "        tickmode = 'array',\n",
    "        tickvals = [0, 45, 90, 135, 180,225 ,270,325,360]),\n",
    "    title=\"XMLD Signal vs. Néel Vector Orientation\"\n",
    ")\n",
    "\n",
    "fig.data[0].name=\"Pol. 100\"\n",
    "fig.data[0].x=np.arange(0,361,5)\n",
    "\n",
    "fig.data[1].name=\"Pol. 190\"\n",
    "fig.data[1].x=np.arange(0,361,5)\n",
    "xs=np.arange(0,361,1)\n",
    "\n",
    "\n",
    "\n",
    "def update(theta=90, phi=180):\n",
    "    with fig.batch_update():\n",
    "        fig.data[0].y=A+B*np.square(np.dot(pol100,n_vector(theta,np.arange(phi,phi+361,5))))*100\n",
    "        fig.data[1].y=A+B*np.square(np.dot(pol190,n_vector(theta,np.arange(phi,phi+361,5))))*100\n",
    "\n",
    "w=interactive(update,theta=(0,180,1), phi=(0, 360, 1)) \n",
    "w.children[0].description=\"$\\\\theta$\"\n",
    "w.children[1].description=\"$\\phi$\"\n",
    "display(w)\n",
    "fig"
   ]
  },
  {
   "cell_type": "code",
   "execution_count": 7,
   "id": "3231b740",
   "metadata": {
    "scrolled": false
   },
   "outputs": [
    {
     "data": {
      "application/vnd.jupyter.widget-view+json": {
       "model_id": "14466926973949838d1a91098c134af2",
       "version_major": 2,
       "version_minor": 0
      },
      "text/plain": [
       "interactive(children=(IntSlider(value=90, description='$\\\\theta$', max=180), IntSlider(value=180, description=…"
      ]
     },
     "metadata": {},
     "output_type": "display_data"
    },
    {
     "data": {
      "application/vnd.jupyter.widget-view+json": {
       "model_id": "e3e90bd99b0f4c74a1f3e1f8e067d962",
       "version_major": 2,
       "version_minor": 0
      },
      "text/plain": [
       "FigureWidget({\n",
       "    'data': [{'line': {'color': '#1f77b4'},\n",
       "              'name': 'Pol. 100',\n",
       "              'ty…"
      ]
     },
     "metadata": {},
     "output_type": "display_data"
    }
   ],
   "source": [
    "fig2 = go.FigureWidget()\n",
    "scatt100 = fig2.add_scatter(line=dict(color=colorlist[0]))\n",
    "scatt145 = fig2.add_scatter(line=dict(color=colorlist[3]))\n",
    "scatt190 = fig2.add_scatter(line=dict(color=colorlist[1]))\n",
    "\n",
    "fig2.update_layout(yaxis_range=[0,100],xaxis_range=[0,360],yaxis_title=\"$XMLD (\\%)$\",xaxis_title=\"$Angle\\ \\phi\\ (^{\\circ})$\")\n",
    "\n",
    "fig2.update_layout(\n",
    "    xaxis = dict(\n",
    "        tickmode = 'array',\n",
    "        tickvals = [0, 45, 90, 135, 180,225 ,270,325,360]),\n",
    "    title=\"XMLD Signal vs. Néel Vector Orientation\"\n",
    ")\n",
    "\n",
    "fig2.data[0].name=\"Pol. 100\"\n",
    "fig2.data[0].x=np.arange(0,361,5)\n",
    "\n",
    "fig2.data[1].name=\"Pol. 145\"\n",
    "fig2.data[1].x=np.arange(0,361,5)\n",
    "\n",
    "fig2.data[2].name=\"Pol. 190\"\n",
    "fig2.data[2].x=np.arange(0,361,5)\n",
    "xs=np.arange(0,361,1)\n",
    "\n",
    "def update(theta=90, phi=180):\n",
    "    with fig2.batch_update():\n",
    "        fig2.data[0].y=np.square(np.dot(pol100,n_vector(theta,np.arange(phi,phi+361,5))))*100\n",
    "        fig2.data[1].y=np.square(np.dot(pol145,n_vector(theta,np.arange(phi,phi+361,5))))*100\n",
    "        fig2.data[2].y=np.square(np.dot(pol190,n_vector(theta,np.arange(phi,phi+361,5))))*100\n",
    "\n",
    "w=interactive(update,theta=(0,180,1), phi=(0, 360, 1)) \n",
    "w.children[0].description=\"$\\\\theta$\"\n",
    "w.children[1].description=\"$\\phi$\"\n",
    "display(w)\n",
    "fig2"
   ]
  },
  {
   "cell_type": "code",
   "execution_count": 8,
   "id": "8ae82b5f",
   "metadata": {
    "scrolled": false,
    "slideshow": {
     "slide_type": "slide"
    }
   },
   "outputs": [
    {
     "data": {
      "application/vnd.jupyter.widget-view+json": {
       "model_id": "126ae917b56d4a67a520014f00e33177",
       "version_major": 2,
       "version_minor": 0
      },
      "text/plain": [
       "interactive(children=(IntSlider(value=90, description='$\\\\theta$', max=180), IntSlider(value=90, description='…"
      ]
     },
     "metadata": {},
     "output_type": "display_data"
    },
    {
     "data": {
      "application/vnd.jupyter.widget-view+json": {
       "model_id": "077816edf5ef444695f2a92764fbf8c2",
       "version_major": 2,
       "version_minor": 0
      },
      "text/plain": [
       "FigureWidget({\n",
       "    'data': [{'line': {'color': '#1f77b4'},\n",
       "              'name': 'Pol. 100',\n",
       "              'ty…"
      ]
     },
     "metadata": {},
     "output_type": "display_data"
    }
   ],
   "source": [
    "fig3 = go.FigureWidget()\n",
    "scatt100 = fig3.add_scatter(line=dict(color=colorlist[0]))\n",
    "scatt123 = fig3.add_scatter(line=dict(color=colorlist[2]))\n",
    "scatt145 = fig3.add_scatter(line=dict(color=colorlist[3]))\n",
    "scatt167 = fig3.add_scatter(line=dict(color=colorlist[4]))\n",
    "scatt190 = fig3.add_scatter(line=dict(color=colorlist[1]))\n",
    "\n",
    "fig3.update_layout(yaxis_range=[0,100],xaxis_range=[0,360],yaxis_title=\"$XMLD (\\%)$\",xaxis_title=\"$Angle\\ \\phi\\ (^{\\circ})$\")\n",
    "\n",
    "fig3.update_layout(\n",
    "    xaxis = dict(\n",
    "        tickmode = 'array',\n",
    "        tickvals = [0, 45, 90, 135, 180,225 ,270,325,360]),\n",
    "    title=\"XMLD Signal vs. Néel Vector Orientation\"\n",
    ")\n",
    "\n",
    "fig3.data[0].name=\"Pol. 100\"\n",
    "fig3.data[0].x=np.arange(0,361,5)\n",
    "fig3.data[1].name=\"Pol. 123\"\n",
    "fig3.data[1].x=np.arange(0,361,5)\n",
    "fig3.data[2].name=\"Pol. 145\"\n",
    "fig3.data[2].x=np.arange(0,361,5)\n",
    "fig3.data[3].name=\"Pol. 167\"\n",
    "fig3.data[3].x=np.arange(0,361,5)\n",
    "fig3.data[4].name=\"Pol. 190\"\n",
    "fig3.data[4].x=np.arange(0,361,5)\n",
    "xs=np.arange(0,361,1)\n",
    "\n",
    "\n",
    "\n",
    "def update(theta=90, phi=90):\n",
    "    with fig3.batch_update():\n",
    "        fig3.data[0].y=np.square(np.dot(pol100,n_vector(theta,np.arange(phi,phi+361,5))))*100\n",
    "        fig3.data[1].y=np.square(np.dot(pol123,n_vector(theta,np.arange(phi,phi+361,5))))*100\n",
    "        fig3.data[2].y=np.square(np.dot(pol145,n_vector(theta,np.arange(phi,phi+361,5))))*100\n",
    "        fig3.data[3].y=np.square(np.dot(pol167,n_vector(theta,np.arange(phi,phi+361,5))))*100\n",
    "        fig3.data[4].y=np.square(np.dot(pol190,n_vector(theta,np.arange(phi,phi+361,5))))*100\n",
    "\n",
    "w=interactive(update,theta=(0,180,1), phi=(0, 360, 1)) \n",
    "w.children[0].description=\"$\\\\theta$\"\n",
    "w.children[1].description=\"$\\phi$\"\n",
    "display(w)\n",
    "fig3"
   ]
  },
  {
   "cell_type": "code",
   "execution_count": 9,
   "id": "6c36320d",
   "metadata": {
    "scrolled": false
   },
   "outputs": [
    {
     "data": {
      "application/vnd.jupyter.widget-view+json": {
       "model_id": "57effc8a9d934e03ae3fab93b68c3968",
       "version_major": 2,
       "version_minor": 0
      },
      "text/plain": [
       "interactive(children=(IntSlider(value=90, description='$\\\\theta$', max=180), IntSlider(value=90, description='…"
      ]
     },
     "metadata": {},
     "output_type": "display_data"
    },
    {
     "data": {
      "application/vnd.jupyter.widget-view+json": {
       "model_id": "8bf62494700248a18c03f214c4e558b9",
       "version_major": 2,
       "version_minor": 0
      },
      "text/plain": [
       "FigureWidget({\n",
       "    'data': [{'line': {'color': '#1f77b4'},\n",
       "              'name': 'Pol. 100',\n",
       "              'ty…"
      ]
     },
     "metadata": {},
     "output_type": "display_data"
    }
   ],
   "source": [
    "fig5 = go.FigureWidget()\n",
    "\n",
    "scatt100 = fig5.add_scatter(line=dict(color=colorlist[0]))\n",
    "scatt123 = fig5.add_scatter(line=dict(color=colorlist[1]))\n",
    "scatt145 = fig5.add_scatter(line=dict(color=colorlist[2]))\n",
    "scatt167 = fig5.add_scatter(line=dict(color=colorlist[3]))\n",
    "scatt190 = fig5.add_scatter(line=dict(color=colorlist[4]))\n",
    "\n",
    "fig5.update_layout(yaxis_range=[0,100],xaxis_range=[-5,95],yaxis_title=\"$XMLD (\\%)$\",xaxis_title=\"$Angle\\ \\phi\\ (^{\\circ})$\")\n",
    "\n",
    "fig5.update_layout(\n",
    "    xaxis = dict(\n",
    "        tickmode = 'array',\n",
    "        tickvals = [0, 45, 90, 135, 180,225 ,270,325,360]),\n",
    "    title=\"XMLD Signal vs. Néel Vector Orientation\"\n",
    ")\n",
    "\n",
    "\n",
    "fig5.data[0].name=\"Pol. 100\"\n",
    "fig5.data[0].x=np.arange(0,91,5)\n",
    "fig5.data[1].name=\"Pol. 123\"\n",
    "fig5.data[1].x=np.arange(0,91,5)\n",
    "fig5.data[2].name=\"Pol. 145\"\n",
    "fig5.data[2].x=np.arange(0,91,5)\n",
    "fig5.data[3].name=\"Pol. 167\"\n",
    "fig5.data[3].x=np.arange(0,91,5)\n",
    "fig5.data[4].name=\"Pol. 190\"\n",
    "fig5.data[4].x=np.arange(0,91,5)\n",
    "xs=np.arange(0,361,1)\n",
    "\n",
    "\n",
    "def update(theta=90, phi=90):\n",
    "    with fig5.batch_update():\n",
    "        fig5.data[0].y=np.square(np.dot(pol100,n_vector(theta,np.arange(phi,phi+91,5))))*100\n",
    "        fig5.data[1].y=np.square(np.dot(pol123,n_vector(theta,np.arange(phi,phi+91,5))))*100\n",
    "        fig5.data[2].y=np.square(np.dot(pol145,n_vector(theta,np.arange(phi,phi+91,5))))*100\n",
    "        fig5.data[3].y=np.square(np.dot(pol167,n_vector(theta,np.arange(phi,phi+91,5))))*100\n",
    "        fig5.data[4].y=np.square(np.dot(pol190,n_vector(theta,np.arange(phi,phi+91,5))))*100\n",
    "\n",
    "w5=interactive(update,theta=(0,180,1), phi=(0, 360, 1)) \n",
    "w5.children[0].description=\"$\\\\theta$\"\n",
    "w5.children[1].description=\"$\\phi$\"\n",
    "display(w5)\n",
    "fig5"
   ]
  },
  {
   "cell_type": "code",
   "execution_count": 10,
   "id": "e378e46c",
   "metadata": {
    "scrolled": false
   },
   "outputs": [
    {
     "data": {
      "application/vnd.jupyter.widget-view+json": {
       "model_id": "b3c2ec4b67b343c0a211b82411df2c0f",
       "version_major": 2,
       "version_minor": 0
      },
      "text/plain": [
       "interactive(children=(IntSlider(value=90, description='$\\\\theta$', max=180), IntSlider(value=90, description='…"
      ]
     },
     "metadata": {},
     "output_type": "display_data"
    },
    {
     "data": {
      "application/vnd.jupyter.widget-view+json": {
       "model_id": "1b6524639aaa4f6099cd748d00e9850c",
       "version_major": 2,
       "version_minor": 0
      },
      "text/plain": [
       "FigureWidget({\n",
       "    'data': [{'line': {'color': '#1f77b4'},\n",
       "              'name': 'Pol. 100',\n",
       "              'ty…"
      ]
     },
     "metadata": {},
     "output_type": "display_data"
    }
   ],
   "source": [
    "fig6 = go.FigureWidget()\n",
    "scatt100 = fig6.add_scatter(line=dict(color=colorlist[0]))\n",
    "scatt123 = fig6.add_scatter(line=dict(color=colorlist[1]))\n",
    "scatt145 = fig6.add_scatter(line=dict(color=colorlist[2]))\n",
    "scatt167 = fig6.add_scatter(line=dict(color=colorlist[3]))\n",
    "scatt190 = fig6.add_scatter(line=dict(color=colorlist[4]))\n",
    "\n",
    "fig6.update_layout(yaxis_range=[0,100],xaxis_range=[-5,95],yaxis_title=\"$XMLD (\\%)$\",xaxis_title=\"$Angle\\ \\phi\\ (^{\\circ})$\")\n",
    "\n",
    "fig6.update_layout(\n",
    "    xaxis = dict(\n",
    "        tickmode = 'array',\n",
    "        tickvals = [0, 45, 90, 135, 180,225 ,270,325,360]),\n",
    "    title=\"XMLD Signal vs. Néel Vector Orientation\"\n",
    ")\n",
    "\n",
    "\n",
    "fig6.data[0].name=\"Pol. 100\"\n",
    "fig6.data[0].x=np.arange(0,91,45)\n",
    "fig6.data[1].name=\"Pol. 123\"\n",
    "fig6.data[1].x=np.arange(0,91,45)\n",
    "fig6.data[2].name=\"Pol. 145\"\n",
    "fig6.data[2].x=np.arange(0,91,45)\n",
    "fig6.data[3].name=\"Pol. 167\"\n",
    "fig6.data[3].x=np.arange(0,91,45)\n",
    "fig6.data[4].name=\"Pol. 190\"\n",
    "fig6.data[4].x=np.arange(0,91,45)\n",
    "xs=np.arange(0,361,1)\n",
    "\n",
    "\n",
    "\n",
    "def update(theta=90, phi=90):\n",
    "    with fig6.batch_update():\n",
    "        fig6.data[0].y=np.square(np.dot(pol100,n_vector(theta,np.arange(phi,phi+91,45))))*100\n",
    "        fig6.data[1].y=np.square(np.dot(pol123,n_vector(theta,np.arange(phi,phi+91,45))))*100\n",
    "        fig6.data[2].y=np.square(np.dot(pol145,n_vector(theta,np.arange(phi,phi+91,45))))*100\n",
    "        fig6.data[3].y=np.square(np.dot(pol167,n_vector(theta,np.arange(phi,phi+91,45))))*100\n",
    "        fig6.data[4].y=np.square(np.dot(pol190,n_vector(theta,np.arange(phi,phi+91,45))))*100\n",
    "\n",
    "w6=interactive(update,theta=(0,180,1), phi=(0, 360, 1)) \n",
    "w6.children[0].description=\"$\\\\theta$\"\n",
    "w6.children[1].description=\"$\\phi$\"\n",
    "display(w6)\n",
    "fig6"
   ]
  },
  {
   "cell_type": "code",
   "execution_count": 11,
   "id": "da779e50",
   "metadata": {},
   "outputs": [],
   "source": [
    "polarizations=[pol100,pol123,pol145,pol167,pol190]\n",
    "def amplitude(n_vector,A,B,C):\n",
    "    amplitudes=[]\n",
    "    for polarization in polarizations:\n",
    "        amplitudes.append(A+B*np.square(np.dot(polarization,n_vector))+C*np.square(np.dot(polarization,[0,0,1])))\n",
    "\n",
    "    return(amplitudes)\n"
   ]
  },
  {
   "cell_type": "code",
   "execution_count": 12,
   "id": "572209e7",
   "metadata": {
    "scrolled": false
   },
   "outputs": [
    {
     "data": {
      "application/vnd.jupyter.widget-view+json": {
       "model_id": "56e5bbfc602d4eaaa63b466655fdaa5d",
       "version_major": 2,
       "version_minor": 0
      },
      "text/plain": [
       "interactive(children=(IntSlider(value=90, description='$\\\\theta$', max=180), IntSlider(value=90, description='…"
      ]
     },
     "metadata": {},
     "output_type": "display_data"
    },
    {
     "data": {
      "application/vnd.jupyter.widget-view+json": {
       "model_id": "ba4b01fefa25419bb786a799433970b9",
       "version_major": 2,
       "version_minor": 0
      },
      "text/plain": [
       "FigureWidget({\n",
       "    'data': [{'marker': {'line': {'color': 'Black', 'width': 0.5}, 'size': 10},\n",
       "              '…"
      ]
     },
     "metadata": {},
     "output_type": "display_data"
    }
   ],
   "source": [
    "dark_angle0=np.load(r\"C:\\Users\\Egecan\\Desktop\\ALBA April 2021\\Analysis\\angle0_dark.npy\")\n",
    "dark_angle45=np.load(r\"C:\\Users\\Egecan\\Desktop\\ALBA April 2021\\Analysis\\angle45_dark.npy\")\n",
    "dark_angle90=np.load(r\"C:\\Users\\Egecan\\Desktop\\ALBA April 2021\\Analysis\\angle90_dark.npy\")\n",
    "\n",
    "\n",
    "fig4 = go.FigureWidget()\n",
    "angle0 = fig4.add_scatter(mode=\"markers+lines\",marker=dict(size=10,line=dict(width=0.5,color='Black')))\n",
    "angle45 = fig4.add_scatter(mode=\"markers+lines\",marker=dict(size=10,line=dict(width=0.5,color='Black')))\n",
    "angle90 = fig4.add_scatter(mode=\"markers+lines\",marker=dict(size=10,line=dict(width=0.5,color='Black')))\n",
    "\n",
    "data_angle0 = fig4.add_scatter(mode=\"markers+lines\",marker=dict(size=12,color=\"Blue\",line=dict(width=0.5,color='Black')))\n",
    "data_angle45 = fig4.add_scatter(mode=\"markers+lines\",marker=dict(size=12,color=\"Red\",line=dict(width=0.5,color='Black')))\n",
    "data_angle90 = fig4.add_scatter(mode=\"markers+lines\",marker=dict(size=12,color=\"Green\",line=dict(width=0.5,color='Black')))\n",
    "\n",
    "fig4.update_layout(yaxis_range=[-0.05,1.05],yaxis_title=\"$XMLD (\\%)$\",xaxis_title=\"Polarizations\")\n",
    "\n",
    "fig4.update_layout(\n",
    "    xaxis = dict(\n",
    "        tickmode = 'array',\n",
    "        tickvals=[0,1,2,3,4],\n",
    "        ticktext = [\"Pol100\",\"Pol123\",\"Pol145\",\"Pol167\",\"Pol190\"]),\n",
    "    title=\"XMLD Signal vs. Néel Vector Orientation\"\n",
    ")\n",
    "\n",
    "fig4.data[0].name=\"Angle 0\"\n",
    "fig4.data[1].name=\"Angle 45\"\n",
    "fig4.data[2].name=\"Angle 90\"\n",
    "\n",
    "fig4.data[3].y=dark_angle0\n",
    "fig4.data[4].y=dark_angle45\n",
    "fig4.data[5].y=dark_angle90\n",
    "\n",
    "\n",
    "\n",
    "def update(theta=90, phi=90,A=0,B=0.01,C=0.01):\n",
    "    with fig4.batch_update():\n",
    "        fig4.data[0].y=amplitude(n_vector(theta,phi),A,B,C)\n",
    "        fig4.data[1].y=amplitude(n_vector(theta,phi-45),A,B,C)\n",
    "        fig4.data[2].y=amplitude(n_vector(theta,phi-90),A,B,C)\n",
    "\n",
    "w=interactive(update,theta=(0,180,1), phi=(0, 360, 1),A=(-0.1,0.1,0.001),B=(-0.5,0.5,0.01),C=(-1,1,0.01)) \n",
    "w.children[0].description=\"$\\\\theta$\"\n",
    "w.children[1].description=\"$\\phi$\"\n",
    "w.children[2].description=\"$A$\"\n",
    "w.children[3].description=\"$B$\"\n",
    "w.children[4].description=\"$C$\"\n",
    "display(w)\n",
    "fig4"
   ]
  },
  {
   "cell_type": "code",
   "execution_count": null,
   "id": "63eb53bb",
   "metadata": {},
   "outputs": [],
   "source": []
  }
 ],
 "metadata": {
  "kernelspec": {
   "display_name": "Python 3",
   "language": "python",
   "name": "python3"
  },
  "language_info": {
   "codemirror_mode": {
    "name": "ipython",
    "version": 3
   },
   "file_extension": ".py",
   "mimetype": "text/x-python",
   "name": "python",
   "nbconvert_exporter": "python",
   "pygments_lexer": "ipython3",
   "version": "3.8.10"
  }
 },
 "nbformat": 4,
 "nbformat_minor": 5
}
